{
 "cells": [
  {
   "cell_type": "markdown",
   "metadata": {},
   "source": [
    "# Exploratory Data Analysis (EDA) for Fall Detection Dataset"
   ]
  },
  {
   "cell_type": "code",
   "metadata": {},
   "source": [
    "import pandas as pd\n",
    "import matplotlib.pyplot as plt\n",
    "import seaborn as sns\n",
    "import numpy as np\n",
    "\n",
    "# Load dataset\n",
    "df = pd.read_csv('../data/accelerometer.csv')\n",
    "df.head()"
   ],
   "execution_count": null,
   "outputs": []
  },
  {
   "cell_type": "code",
   "metadata": {},
   "source": [
    "# Check for missing values\n",
    "df.isnull().sum()"
   ],
   "execution_count": null,
   "outputs": []
  },
  {
   "cell_type": "code",
   "metadata": {},
   "source": [
    "# Class distribution\n",
    "sns.countplot(data=df, x='label')\n",
    "plt.title('Fall vs No Fall Count')\n",
    "plt.show()"
   ],
   "execution_count": null,
   "outputs": []
  },
  {
   "cell_type": "code",
   "metadata": {},
   "source": [
    "# Plot sample accelerometer signals\n",
    "plt.figure(figsize=(12, 6))\n",
    "plt.plot(df['x'][:500], label='X')\n",
    "plt.plot(df['y'][:500], label='Y')\n",
    "plt.plot(df['z'][:500], label='Z')\n",
    "plt.title('Accelerometer Readings (First 500 samples)')\n",
    "plt.xlabel('Sample Index')\n",
    "plt.ylabel('Acceleration')\n",
    "plt.legend()\n",
    "plt.show()"
   ],
   "execution_count": null,
   "outputs": []
  },
  {
   "cell_type": "code",
   "metadata": {},
   "source": [
    "# Correlation matrix\n",
    "plt.figure(figsize=(6, 5))\n",
    "sns.heatmap(df[['x', 'y', 'z']].corr(), annot=True, cmap='coolwarm')\n",
    "plt.title('Correlation Between Axes')\n",
    "plt.show()"
   ],
   "execution_count": null,
   "outputs": []
  }
 ],
 "metadata": {
  "kernelspec": {
   "display_name": "Python 3",
   "language": "python",
   "name": "python3"
  },
  "language_info": {
   "name": "python",
   "version": "3.9"
  }
 },
 "nbformat": 4,
 "nbformat_minor": 5
}